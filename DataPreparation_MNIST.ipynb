{
 "cells": [
  {
   "cell_type": "markdown",
   "id": "02117229",
   "metadata": {},
   "source": [
    "# Dataset in [channel*BS, Height, Weight] Format"
   ]
  },
  {
   "cell_type": "code",
   "execution_count": 1,
   "id": "07d38ed2",
   "metadata": {},
   "outputs": [],
   "source": [
    "%load_ext autoreload\n",
    "%autoreload 2\n",
    "\n",
    "import gzip\n",
    "import idx2numpy\n",
    "import numpy as np\n",
    "import matplotlib.pyplot as plt\n",
    "from numpy.testing import assert_array_almost_equal\n",
    "\n",
    "import torch\n",
    "\n",
    "from Utils.data_class import mnist_dataset, noisify\n",
    "from Utils.data_class import multiclass_noisify, noisify_pairflip, noisify_multiclass_symmetric, noisify_asymmetric, noisify_pairflip_permutation\n"
   ]
  },
  {
   "cell_type": "code",
   "execution_count": 2,
   "id": "3b9b8534",
   "metadata": {},
   "outputs": [],
   "source": [
    "data_path_original = './data/mnist/'"
   ]
  },
  {
   "cell_type": "markdown",
   "id": "7fa3738c",
   "metadata": {},
   "source": [
    "# Upload original images with thier labels, and annotators"
   ]
  },
  {
   "cell_type": "code",
   "execution_count": 3,
   "id": "32df67a7",
   "metadata": {},
   "outputs": [
    {
     "name": "stdout",
     "output_type": "stream",
     "text": [
      "Shape of image data (60000, 28, 28) , meaning 60 000 images with 28x28 pixels\n",
      "Shape of labels (60000,) , meaning 60 000 labels\n",
      "Shape of annotators data (5, 60000, 28, 28) , meaning 5 annotations for 60 000 images with 28x28 pixels\n"
     ]
    }
   ],
   "source": [
    "with gzip.open(data_path_original + 'train-images-idx3-ubyte.gz', \"rb\") as a_file:\n",
    "    original_img = idx2numpy.convert_from_file(a_file)\n",
    "with gzip.open(data_path_original + 'train-labels-idx1-ubyte.gz', \"rb\") as a_file:\n",
    "    labels = idx2numpy.convert_from_file(a_file)\n",
    "with gzip.open(data_path_original + 'annotators_ubyte.gz', \"rb\") as a_file:\n",
    "    annotators = idx2numpy.convert_from_file(a_file)\n",
    "\n",
    "print(\"Shape of image data\", original_img.shape, \", meaning 60 000 images with 28x28 pixels\")\n",
    "print(\"Shape of labels\", labels.shape, \", meaning 60 000 labels\")\n",
    "print(\"Shape of annotators data\", annotators.shape, \", meaning 5 annotations for 60 000 images with 28x28 pixels\")"
   ]
  },
  {
   "cell_type": "markdown",
   "id": "2627a92d",
   "metadata": {},
   "source": [
    "### Plot the data from origin"
   ]
  },
  {
   "cell_type": "code",
   "execution_count": 4,
   "id": "d5b39cc5",
   "metadata": {},
   "outputs": [
    {
     "data": {
      "image/png": "[encoded data removed]",
      "text/plain": [
       "<Figure size 792x1080 with 5 Axes>"
      ]
     },
     "metadata": {
      "needs_background": "light"
     },
     "output_type": "display_data"
    },
    {
     "name": "stdout",
     "output_type": "stream",
     "text": [
      "The label is 8\n"
     ]
    }
   ],
   "source": [
    "columns = 5\n",
    "rows = 1\n",
    "idx = 55\n",
    "\n",
    "names = [\"ground truth\", \"thin\", \"thick\", \"swell\", \"fractured\"]\n",
    "\n",
    "fig = plt.figure(figsize = (11, 15))\n",
    "ax = []\n",
    "for i in range(columns*rows):\n",
    "    annotator = annotators[i,idx,:,:]\n",
    "    ax.append(fig.add_subplot(rows, columns, i+1))\n",
    "    ax[-1].set_title(names[i]) \n",
    "    plt.imshow(annotator)\n",
    "plt.show()\n",
    "\n",
    "label = labels[idx]\n",
    "print(\"The label is\", label)"
   ]
  },
  {
   "cell_type": "code",
   "execution_count": 5,
   "id": "daa9e229",
   "metadata": {},
   "outputs": [
    {
     "data": {
      "image/png": "[encoded data removed]",
      "text/plain": [
       "<Figure size 432x288 with 1 Axes>"
      ]
     },
     "metadata": {
      "needs_background": "light"
     },
     "output_type": "display_data"
    },
    {
     "data": {
      "text/plain": [
       "<matplotlib.image.AxesImage at 0x7fd3bb31b550>"
      ]
     },
     "execution_count": 5,
     "metadata": {},
     "output_type": "execute_result"
    },
    {
     "data": {
      "image/png": "[encoded data removed]",
      "text/plain": [
       "<Figure size 432x288 with 1 Axes>"
      ]
     },
     "metadata": {
      "needs_background": "light"
     },
     "output_type": "display_data"
    }
   ],
   "source": [
    "### the first annotator (\"ground truth\") suppose to be very close to the original image. Checking by comparing\n",
    "sum(annotators[0,idx,:,:]==original_img[idx,:,:])\n",
    "plt.imshow(original_img[idx,:,:]); plt.show()\n",
    "plt.imshow(annotators[0,idx,:,:])"
   ]
  },
  {
   "cell_type": "markdown",
   "id": "ba5cd5ee",
   "metadata": {},
   "source": [
    "# Creating Noisy labels for each Anootators"
   ]
  },
  {
   "cell_type": "code",
   "execution_count": 6,
   "id": "f4824fca",
   "metadata": {},
   "outputs": [
    {
     "name": "stdout",
     "output_type": "stream",
     "text": [
      "(3, 60000)\n"
     ]
    }
   ],
   "source": [
    "### Labels: Annotator 1\n",
    "gt_noisy_lbl, SM_ann1_gt = noisify(torch.tensor(labels), noise_type='symmetric', noise_rate=0.8, random_state=0, nb_classes=10)\n",
    "ann1_lbl = gt_noisy_lbl\n",
    "\n",
    "thin_noisy_lbl, SM_ann1_thin = noisify(torch.tensor(labels), noise_type='asymmetric', noise_rate=0.4, random_state=0, nb_classes=10)\n",
    "ann1_lbl = np.vstack((ann1_lbl, thin_noisy_lbl))\n",
    "\n",
    "thick_noisy_lbl, SM_ann1_thick = noisify(torch.tensor(labels), noise_type='pairflip', noise_rate=0.95, random_state=0, nb_classes=10)\n",
    "ann1_lbl = np.vstack((ann1_lbl, thick_noisy_lbl))\n",
    "\n",
    "# swell_noisy_lbl = noisify_pairflip(torch.tensor(labels),noise=0.2,random_state=0,nb_classes=10)\n",
    "# ann1_lbl = np.vstack((ann1_lbl, swell_noisy_lbl))\n",
    "\n",
    "# frac_noisy_lbl = noisify_multiclass_symmetric(torch.tensor(labels), noise=0.6, random_state=0, nb_classes=10)\n",
    "# ann1_lbl = np.vstack((ann1_lbl, frac_noisy_lbl))\n",
    "\n",
    "print(ann1_lbl.shape)"
   ]
  },
  {
   "cell_type": "code",
   "execution_count": 7,
   "id": "86702b12",
   "metadata": {},
   "outputs": [
    {
     "name": "stderr",
     "output_type": "stream",
     "text": [
      "/tmp/ipykernel_133384/3316278993.py:3: UserWarning: This figure includes Axes that are not compatible with tight_layout, so results might be incorrect.\n",
      "  plt.tight_layout()\n"
     ]
    },
    {
     "data": {
      "image/png": "[encoded data removed]",
      "text/plain": [
       "<Figure size 288x288 with 2 Axes>"
      ]
     },
     "metadata": {
      "needs_background": "light"
     },
     "output_type": "display_data"
    }
   ],
   "source": [
    "plt.matshow(SM_ann1_gt);plt.colorbar();\n",
    "plt.title(\"Annotator1 Original\", fontsize = 20);\n",
    "plt.tight_layout()\n",
    "plt.savefig('./plots/Original_SMs/SM_ann1_gt.pdf', bbox_inches='tight')"
   ]
  },
  {
   "cell_type": "code",
   "execution_count": 8,
   "id": "e4473234",
   "metadata": {},
   "outputs": [
    {
     "name": "stderr",
     "output_type": "stream",
     "text": [
      "/tmp/ipykernel_133384/2227806512.py:3: UserWarning: This figure includes Axes that are not compatible with tight_layout, so results might be incorrect.\n",
      "  plt.tight_layout()\n"
     ]
    },
    {
     "data": {
      "image/png": "[encoded data removed]",
      "text/plain": [
       "<Figure size 288x288 with 2 Axes>"
      ]
     },
     "metadata": {
      "needs_background": "light"
     },
     "output_type": "display_data"
    }
   ],
   "source": [
    "plt.matshow(SM_ann1_thin);plt.colorbar();\n",
    "plt.title(\"Annotator1 Thin\", fontsize = 20);\n",
    "plt.tight_layout()\n",
    "plt.savefig('./plots/Original_SMs/SM_ann1_thin.pdf', bbox_inches='tight')"
   ]
  },
  {
   "cell_type": "code",
   "execution_count": 9,
   "id": "171c114e",
   "metadata": {},
   "outputs": [
    {
     "name": "stderr",
     "output_type": "stream",
     "text": [
      "/tmp/ipykernel_133384/4092862345.py:3: UserWarning: This figure includes Axes that are not compatible with tight_layout, so results might be incorrect.\n",
      "  plt.tight_layout()\n"
     ]
    },
    {
     "data": {
      "image/png": "[encoded data removed]",
      "text/plain": [
       "<Figure size 288x288 with 2 Axes>"
      ]
     },
     "metadata": {
      "needs_background": "light"
     },
     "output_type": "display_data"
    }
   ],
   "source": [
    "plt.matshow(SM_ann1_thick);plt.colorbar();\n",
    "plt.title(\"Annotator1 Thick\", fontsize = 20);\n",
    "plt.tight_layout()\n",
    "# plt.savefig('./plots/Original_SMs/SM_ann1_thick.pdf', bbox_inches='tight')"
   ]
  },
  {
   "cell_type": "code",
   "execution_count": 10,
   "id": "f223862e",
   "metadata": {},
   "outputs": [
    {
     "name": "stderr",
     "output_type": "stream",
     "text": [
      "/tmp/ipykernel_133384/3624960161.py:5: UserWarning: This figure includes Axes that are not compatible with tight_layout, so results might be incorrect.\n",
      "  plt.tight_layout()\n"
     ]
    },
    {
     "data": {
      "image/png": "[encoded data removed]",
      "text/plain": [
       "<Figure size 288x288 with 2 Axes>"
      ]
     },
     "metadata": {
      "needs_background": "light"
     },
     "output_type": "display_data"
    }
   ],
   "source": [
    "### can use different cmap colors\n",
    "plt.matshow(SM_ann1_thick, cmap='coolwarm', vmin = 0, vmax =1);plt.colorbar();\n",
    "# plt.matshow(SM_ann1_thick, cmap='jet', vmin = 0, vmax =1);plt.colorbar();  #Spectral\n",
    "plt.title(\"Annotator1 Thick\", fontsize = 20);\n",
    "plt.tight_layout()\n",
    "# plt.savefig('./plots/Original_SMs/SM_ann1_thick.pdf', bbox_inches='tight')"
   ]
  },
  {
   "cell_type": "code",
   "execution_count": 11,
   "id": "84256a14",
   "metadata": {},
   "outputs": [
    {
     "name": "stdout",
     "output_type": "stream",
     "text": [
      "(4, 1, 2, 7, 5, 0, 3, 6, 8, 9) 0\n",
      "(3, 60000)\n"
     ]
    }
   ],
   "source": [
    "### Labels: Annotator 2\n",
    "gt_noisy_lbl, SM_ann2_gt = noisify(torch.tensor(labels), noise_type='pairflip_permut', noise_rate=0.4, random_state=0, nb_classes=10)\n",
    "ann2_lbl = gt_noisy_lbl\n",
    "\n",
    "thin_noisy_lbl, SM_ann2_thin = noisify(torch.tensor(labels), noise_type='symmetric', noise_rate=0.95, random_state=0, nb_classes=10)\n",
    "ann2_lbl = np.vstack((ann2_lbl, thin_noisy_lbl))\n",
    "\n",
    "thick_noisy_lbl, SM_ann2_thick = noisify(torch.tensor(labels), noise_type='asymmetric', noise_rate=0.7, random_state=0, nb_classes=10)\n",
    "ann2_lbl = np.vstack((ann2_lbl, thick_noisy_lbl))\n",
    "\n",
    "# swell_noisy_lbl = noisify_pairflip(torch.tensor(annotators_labels),noise=0.4,random_state=0,nb_classes=10)\n",
    "# ann2_lbl = np.vstack((ann2_lbl, swell_noisy_lbl))\n",
    "\n",
    "# frac_noisy_lbl = noisify_multiclass_symmetric(torch.tensor(annotators_labels), noise=0.4, random_state=0, nb_classes=10)\n",
    "# ann2_lbl = np.vstack((ann2_lbl, frac_noisy_lbl))\n",
    "\n",
    "print(ann2_lbl.shape)"
   ]
  },
  {
   "cell_type": "code",
   "execution_count": 12,
   "id": "848aceff",
   "metadata": {},
   "outputs": [
    {
     "name": "stderr",
     "output_type": "stream",
     "text": [
      "/tmp/ipykernel_133384/1410996711.py:3: UserWarning: This figure includes Axes that are not compatible with tight_layout, so results might be incorrect.\n",
      "  plt.tight_layout()\n"
     ]
    },
    {
     "data": {
      "image/png": "[encoded data removed]",
      "text/plain": [
       "<Figure size 288x288 with 2 Axes>"
      ]
     },
     "metadata": {
      "needs_background": "light"
     },
     "output_type": "display_data"
    }
   ],
   "source": [
    "plt.matshow(SM_ann2_gt);plt.colorbar();\n",
    "plt.title(\"Annotator2 Original\", fontsize = 20);\n",
    "plt.tight_layout()\n",
    "# plt.savefig('./plots/Original_SMs/SM_ann2_gt.pdf', bbox_inches='tight')"
   ]
  },
  {
   "cell_type": "code",
   "execution_count": 13,
   "id": "70d72396",
   "metadata": {},
   "outputs": [
    {
     "name": "stderr",
     "output_type": "stream",
     "text": [
      "/tmp/ipykernel_133384/3167649102.py:3: UserWarning: This figure includes Axes that are not compatible with tight_layout, so results might be incorrect.\n",
      "  plt.tight_layout()\n"
     ]
    },
    {
     "data": {
      "image/png": "[encoded data removed]",
      "text/plain": [
       "<Figure size 288x288 with 2 Axes>"
      ]
     },
     "metadata": {
      "needs_background": "light"
     },
     "output_type": "display_data"
    }
   ],
   "source": [
    "plt.matshow(SM_ann2_thin);plt.colorbar();\n",
    "plt.title(\"Annotator2 Thin\", fontsize = 20);\n",
    "plt.tight_layout()\n",
    "# plt.savefig('./plots/Original_SMs/SM_ann2_thin.pdf', bbox_inches='tight')"
   ]
  },
  {
   "cell_type": "code",
   "execution_count": 14,
   "id": "49ee3af3",
   "metadata": {},
   "outputs": [
    {
     "name": "stderr",
     "output_type": "stream",
     "text": [
      "/tmp/ipykernel_133384/1491671235.py:3: UserWarning: This figure includes Axes that are not compatible with tight_layout, so results might be incorrect.\n",
      "  plt.tight_layout()\n"
     ]
    },
    {
     "data": {
      "image/png": "[encoded data removed]",
      "text/plain": [
       "<Figure size 288x288 with 2 Axes>"
      ]
     },
     "metadata": {
      "needs_background": "light"
     },
     "output_type": "display_data"
    }
   ],
   "source": [
    "plt.matshow(SM_ann2_thick);plt.colorbar();\n",
    "plt.title(\"Annotator2 Thick\", fontsize = 20);\n",
    "plt.tight_layout()\n",
    "# plt.savefig('./plots/Original_SMs/SM_ann2_thick.pdf', bbox_inches='tight')"
   ]
  },
  {
   "cell_type": "code",
   "execution_count": 15,
   "id": "94adc874",
   "metadata": {},
   "outputs": [
    {
     "name": "stdout",
     "output_type": "stream",
     "text": [
      "(4, 1, 2, 7, 5, 0, 3, 9, 8, 6) 5\n",
      "(3, 60000)\n"
     ]
    }
   ],
   "source": [
    "### Labels: Annotator 3\n",
    "gt_noisy_lbl, SM_ann3_gt = noisify(torch.tensor(labels), noise_type='pairflip', noise_rate=0.6, random_state=0, nb_classes=10)\n",
    "ann3_lbl = gt_noisy_lbl\n",
    "\n",
    "thin_noisy_lbl, SM_ann3_thin = noisify(torch.tensor(labels), noise_type='pairflip_permut', noise_rate=0.4, random_state=5, nb_classes=10)\n",
    "ann3_lbl = np.vstack((ann3_lbl, thin_noisy_lbl))\n",
    "\n",
    "thick_noisy_lbl, SM_ann3_thick = noisify(torch.tensor(labels), noise_type='symmetric', noise_rate=0.8, random_state=0, nb_classes=10)\n",
    "ann3_lbl = np.vstack((ann3_lbl, thick_noisy_lbl))\n",
    "\n",
    "# swell_noisy_lbl = noisify_pairflip(torch.tensor(annotators_labels),noise=0.6,random_state=0,nb_classes=10)\n",
    "# ann3_lbl = np.vstack((ann3_lbl, swell_noisy_lbl))\n",
    "# frac_noisy_lbl = noisify_multiclass_symmetric(torch.tensor(annotators_labels), noise=0.5, random_state=0, nb_classes=10)\n",
    "# ann3_lbl = np.vstack((ann3_lbl, frac_noisy_lbl))\n",
    "\n",
    "print(ann3_lbl.shape)"
   ]
  },
  {
   "cell_type": "code",
   "execution_count": 16,
   "id": "1ea3b06e",
   "metadata": {},
   "outputs": [
    {
     "name": "stderr",
     "output_type": "stream",
     "text": [
      "/tmp/ipykernel_133384/1467343561.py:3: UserWarning: This figure includes Axes that are not compatible with tight_layout, so results might be incorrect.\n",
      "  plt.tight_layout()\n"
     ]
    },
    {
     "data": {
      "image/png": "[encoded data removed]",
      "text/plain": [
       "<Figure size 288x288 with 2 Axes>"
      ]
     },
     "metadata": {
      "needs_background": "light"
     },
     "output_type": "display_data"
    }
   ],
   "source": [
    "plt.matshow(SM_ann3_gt);plt.colorbar();\n",
    "plt.title(\"Annotator3 Original\", fontsize = 20);\n",
    "plt.tight_layout()\n",
    "# plt.savefig('./plots/Original_SMs/SM_ann3_gt.pdf', bbox_inches='tight')"
   ]
  },
  {
   "cell_type": "code",
   "execution_count": 17,
   "id": "723b44d8",
   "metadata": {},
   "outputs": [
    {
     "name": "stderr",
     "output_type": "stream",
     "text": [
      "/tmp/ipykernel_133384/3577558922.py:3: UserWarning: This figure includes Axes that are not compatible with tight_layout, so results might be incorrect.\n",
      "  plt.tight_layout()\n"
     ]
    },
    {
     "data": {
      "image/png": "[encoded data removed]",
      "text/plain": [
       "<Figure size 288x288 with 2 Axes>"
      ]
     },
     "metadata": {
      "needs_background": "light"
     },
     "output_type": "display_data"
    }
   ],
   "source": [
    "plt.matshow(SM_ann3_thin);plt.colorbar();\n",
    "plt.title(\"Annotator3 Thin\", fontsize = 20);\n",
    "plt.tight_layout()\n",
    "# plt.savefig('./plots/Original_SMs/SM_ann3_thin.pdf', bbox_inches='tight')"
   ]
  },
  {
   "cell_type": "code",
   "execution_count": 18,
   "id": "90a86c56",
   "metadata": {},
   "outputs": [
    {
     "name": "stderr",
     "output_type": "stream",
     "text": [
      "/tmp/ipykernel_133384/88468872.py:3: UserWarning: This figure includes Axes that are not compatible with tight_layout, so results might be incorrect.\n",
      "  plt.tight_layout()\n"
     ]
    },
    {
     "data": {
      "image/png": "[encoded data removed]",
      "text/plain": [
       "<Figure size 288x288 with 2 Axes>"
      ]
     },
     "metadata": {
      "needs_background": "light"
     },
     "output_type": "display_data"
    }
   ],
   "source": [
    "plt.matshow(SM_ann3_thick);plt.colorbar();\n",
    "plt.title(\"Annotator3 Thick\", fontsize = 20);\n",
    "plt.tight_layout()\n",
    "# plt.savefig('./plots/Original_SMs/SM_ann3_thick.pdf', bbox_inches='tight')"
   ]
  },
  {
   "cell_type": "code",
   "execution_count": 19,
   "id": "f166e823",
   "metadata": {},
   "outputs": [
    {
     "name": "stdout",
     "output_type": "stream",
     "text": [
      "(3, 60000)\n"
     ]
    }
   ],
   "source": [
    "gt_lbl = labels\n",
    "for i in range (1, 3):\n",
    "    gt_lbl = np.vstack((gt_lbl, labels)) \n",
    "\n",
    "print(gt_lbl.shape)"
   ]
  },
  {
   "cell_type": "code",
   "execution_count": 20,
   "id": "11eedda1",
   "metadata": {},
   "outputs": [],
   "source": [
    "all_ann_labels = [ann1_lbl, ann2_lbl, ann3_lbl]"
   ]
  },
  {
   "cell_type": "markdown",
   "id": "5373d186",
   "metadata": {},
   "source": [
    "# For whole train data (no splitting into train & validation)"
   ]
  },
  {
   "cell_type": "code",
   "execution_count": 21,
   "id": "12ce2417",
   "metadata": {},
   "outputs": [
    {
     "name": "stdout",
     "output_type": "stream",
     "text": [
      "1572527984\n",
      "1567298545\n"
     ]
    }
   ],
   "source": [
    "print(annotators[0,:].sum())\n",
    "print(original_img.sum())"
   ]
  },
  {
   "cell_type": "code",
   "execution_count": 22,
   "id": "5b983ca1",
   "metadata": {},
   "outputs": [
    {
     "name": "stdout",
     "output_type": "stream",
     "text": [
      "(3, 60000, 28, 28)\n",
      "7 7 7\n",
      "1 7 8\n",
      "5 7 8\n",
      "7 7 1\n"
     ]
    },
    {
     "data": {
      "image/png": "[encoded data removed]",
      "text/plain": [
       "<Figure size 792x1080 with 3 Axes>"
      ]
     },
     "metadata": {
      "needs_background": "light"
     },
     "output_type": "display_data"
    }
   ],
   "source": [
    "# using only first three annotators: gt, thin, thick\n",
    "images = annotators[0:3, :]\n",
    "print(images.shape)\n",
    "\n",
    "### Reshaping the data\n",
    "train_img = images.reshape(3 * 60000, 28, 28)\n",
    "\n",
    "gt_train_lbl = gt_lbl.reshape(3*60000)\n",
    "ann1_train_lbl = ann1_lbl.reshape(3*60000)\n",
    "ann2_train_lbl = ann2_lbl.reshape(3*60000)\n",
    "ann3_train_lbl = ann3_lbl.reshape(3*60000)\n",
    "\n",
    "idx = 15; idx2 = 60000+idx; idx3 = 120000+idx\n",
    "print(gt_train_lbl[idx], gt_train_lbl[idx2], gt_train_lbl[idx3])\n",
    "print(ann1_train_lbl[idx], ann1_train_lbl[idx2], ann1_train_lbl[idx3])\n",
    "print(ann2_train_lbl[idx], ann2_train_lbl[idx2], ann2_train_lbl[idx3])\n",
    "print(ann3_train_lbl[idx], ann3_train_lbl[idx2], ann3_train_lbl[idx3])\n",
    "\n",
    "index = [i + idx for i in range(0,180000,60000)]\n",
    "\n",
    "fig = plt.figure(figsize = (11, 15))\n",
    "ax = []\n",
    "for i in range(3):\n",
    "    annotator = train_img [index[i],:,:]\n",
    "    ax.append(fig.add_subplot(rows, columns, i+1))\n",
    "    ax[-1].set_title(names[i]) \n",
    "    plt.imshow(annotator)\n",
    "plt.show()\n",
    "\n",
    "### saving the training and validation dataset in npy format\n",
    "np.save(data_path_original + 'train_whole/' + 'train_data', train_img)\n",
    "np.save(data_path_original + 'train_whole/' + 'train_gt_labels', gt_train_lbl)\n",
    "np.save(data_path_original + 'train_whole/' + 'train_ann1_labels', ann1_train_lbl)\n",
    "np.save(data_path_original + 'train_whole/' + 'train_ann2_labels', ann2_train_lbl)\n",
    "np.save(data_path_original + 'train_whole/' + 'train_ann3_labels', ann3_train_lbl)"
   ]
  },
  {
   "cell_type": "code",
   "execution_count": 23,
   "id": "93d75508",
   "metadata": {},
   "outputs": [
    {
     "name": "stdout",
     "output_type": "stream",
     "text": [
      "(180000, 28, 28)\n"
     ]
    },
    {
     "data": {
      "text/plain": [
       "<matplotlib.image.AxesImage at 0x7fd2ee06da80>"
      ]
     },
     "execution_count": 23,
     "metadata": {},
     "output_type": "execute_result"
    },
    {
     "data": {
      "image/png": "[encoded data removed]",
      "text/plain": [
       "<Figure size 432x288 with 1 Axes>"
      ]
     },
     "metadata": {
      "needs_background": "light"
     },
     "output_type": "display_data"
    }
   ],
   "source": [
    "images_train_whole = np.load('data/mnist/train_whole/train_data.npy')\n",
    "print(images_train_whole.shape)\n",
    "plt.imshow(images_train_whole[idx])"
   ]
  },
  {
   "cell_type": "markdown",
   "id": "e68e9f89",
   "metadata": {},
   "source": [
    "# Splitting data: train (first 50 000 images) & validation (last 10 000 images)"
   ]
  },
  {
   "cell_type": "markdown",
   "id": "ecf130bc",
   "metadata": {},
   "source": [
    "## Splitting Data"
   ]
  },
  {
   "cell_type": "code",
   "execution_count": 24,
   "id": "780312aa",
   "metadata": {},
   "outputs": [
    {
     "name": "stdout",
     "output_type": "stream",
     "text": [
      "Training vs Validation data(image) shapes (3, 50000, 28, 28) (3, 10000, 28, 28)\n",
      "Training vs Validation labels shapes (3, 50000) (3, 10000)\n",
      "\n",
      "Annotation label shapes (12, 50000) (12, 10000)\n",
      "\n",
      "Training annotators shapes (3, 50000) (3, 50000) (3, 50000) (3, 50000)\n",
      "Validation annotators shapes (3, 10000) (3, 10000) (3, 10000) (3, 10000)\n"
     ]
    }
   ],
   "source": [
    "### similarly, using here only first 3 annotations: gt, thin, thick \n",
    "images = annotators[0:3,:]\n",
    "\n",
    "### splitting images\n",
    "dataset_split = np.array_split(images, [50000, 60000], axis=1)\n",
    "train_img = dataset_split[0]\n",
    "val_img = dataset_split[1]\n",
    "print(\"Training vs Validation data(image) shapes\", train_img.shape, val_img.shape)\n",
    "\n",
    "### splitting GT labels\n",
    "label_split = np.array_split(gt_lbl, [50000,60000], axis=1)\n",
    "train_lbl = label_split[0]\n",
    "val_lbl = label_split[1]\n",
    "print(\"Training vs Validation labels shapes\", train_lbl.shape, val_lbl.shape)\n",
    "\n",
    "### splitting annotators\n",
    "for lbl in all_ann_labels:\n",
    "    split = np.array_split(lbl, [50000, 60000], axis=1)\n",
    "    train_lbl = np.vstack((train_lbl, split[0])) \n",
    "    val_lbl = np.vstack((val_lbl, split[1]))\n",
    "print(\"\\nAnnotation label shapes\", train_lbl.shape, val_lbl.shape)\n",
    "\n",
    "### defining the each annotators labels\n",
    "gt_train_lbl = train_lbl[0:3]\n",
    "ann1_train_lbl = train_lbl[3:6]\n",
    "ann2_train_lbl = train_lbl[6:9]\n",
    "ann3_train_lbl = train_lbl[9:12]\n",
    "\n",
    "gt_val_lbl = val_lbl[0:3]\n",
    "ann1_val_lbl = val_lbl[3:6]\n",
    "ann2_val_lbl = val_lbl[6:9]\n",
    "ann3_val_lbl = val_lbl[9:12]\n",
    "\n",
    "print(\"\\nTraining annotators shapes\", gt_train_lbl.shape, ann1_train_lbl.shape, ann2_train_lbl.shape, ann3_train_lbl.shape)\n",
    "print(\"Validation annotators shapes\",gt_val_lbl.shape, ann1_val_lbl.shape, ann2_val_lbl.shape, ann3_val_lbl.shape)"
   ]
  },
  {
   "cell_type": "markdown",
   "id": "ca7a8973",
   "metadata": {},
   "source": [
    "### Reshaping the data"
   ]
  },
  {
   "cell_type": "code",
   "execution_count": 25,
   "id": "b8700927",
   "metadata": {},
   "outputs": [
    {
     "name": "stdout",
     "output_type": "stream",
     "text": [
      "7 7 5\n",
      "1 7 7\n",
      "5 7 0\n",
      "7 7 6\n"
     ]
    },
    {
     "data": {
      "image/png": "[encoded data removed]",
      "text/plain": [
       "<Figure size 792x1080 with 3 Axes>"
      ]
     },
     "metadata": {
      "needs_background": "light"
     },
     "output_type": "display_data"
    }
   ],
   "source": [
    "train_img = train_img.reshape(3*50000,28,28)\n",
    "val_img = val_img.reshape(3*10000,28,28)\n",
    "\n",
    "gt_train_lbl = gt_train_lbl.reshape(3*50000)\n",
    "ann1_train_lbl = ann1_train_lbl.reshape(3*50000)\n",
    "ann2_train_lbl = ann2_train_lbl.reshape(3*50000)\n",
    "ann3_train_lbl = ann3_train_lbl.reshape(3*50000)\n",
    "\n",
    "gt_val_lbl = gt_val_lbl.reshape(3*10000)\n",
    "ann1_val_lbl = ann1_val_lbl.reshape(3*10000)\n",
    "ann2_val_lbl = ann2_val_lbl.reshape(3*10000)\n",
    "ann3_val_lbl = ann3_val_lbl.reshape(3*10000)\n",
    "\n",
    "idx = 15; idx2 = 50000+idx; idx3 = 10000+idx\n",
    "print(gt_train_lbl[idx], gt_train_lbl[idx2], gt_train_lbl[idx3])\n",
    "print(ann1_train_lbl[idx], ann1_train_lbl[idx2], ann1_train_lbl[idx3])\n",
    "print(ann2_train_lbl[idx], ann2_train_lbl[idx2], ann2_train_lbl[idx3])\n",
    "print(ann3_train_lbl[idx], ann3_train_lbl[idx2], ann3_train_lbl[idx3])\n",
    "\n",
    "\n",
    "index = [i + idx for i in range(0,150000,50000)]\n",
    "\n",
    "fig = plt.figure(figsize = (11, 15))\n",
    "ax = []\n",
    "for i in range(3):\n",
    "    annotator = train_img [index[i],:,:]\n",
    "    ax.append(fig.add_subplot(rows, columns, i+1))\n",
    "    ax[-1].set_title(names[i]) \n",
    "    plt.imshow(annotator)\n",
    "plt.show()"
   ]
  },
  {
   "cell_type": "markdown",
   "id": "41426563",
   "metadata": {},
   "source": [
    "### Plotting data from the training data set"
   ]
  },
  {
   "cell_type": "code",
   "execution_count": 26,
   "id": "890fddac",
   "metadata": {},
   "outputs": [
    {
     "data": {
      "image/png": "[encoded data removed]",
      "text/plain": [
       "<Figure size 792x1080 with 3 Axes>"
      ]
     },
     "metadata": {
      "needs_background": "light"
     },
     "output_type": "display_data"
    },
    {
     "name": "stdout",
     "output_type": "stream",
     "text": [
      "The label is 6 3 8 7\n"
     ]
    }
   ],
   "source": [
    "### Plotting data from the training data set\n",
    "idx = 9000\n",
    "\n",
    "index = [i + idx for i in range(0,150000,50000)]\n",
    "\n",
    "fig = plt.figure(figsize = (11, 15))\n",
    "ax = []\n",
    "for i in range(3):\n",
    "    annotator = train_img [index[i],:,:]\n",
    "    ax.append(fig.add_subplot(rows, columns, i+1))\n",
    "    ax[-1].set_title(names[i]) \n",
    "    plt.imshow(annotator)\n",
    "plt.show()\n",
    "\n",
    "gt_label = gt_train_lbl[idx]\n",
    "ann1_label = ann1_train_lbl[idx]\n",
    "ann2_label = ann2_train_lbl[idx]\n",
    "ann3_label = ann3_train_lbl[idx]\n",
    "print(\"The label is\", gt_label, ann1_label, ann2_label, ann3_label)"
   ]
  },
  {
   "cell_type": "markdown",
   "id": "0728caac",
   "metadata": {},
   "source": [
    "### Plotting data from the validation data set"
   ]
  },
  {
   "cell_type": "code",
   "execution_count": 27,
   "id": "b09c7108",
   "metadata": {},
   "outputs": [
    {
     "data": {
      "image/png": "[encoded data removed]",
      "text/plain": [
       "<Figure size 792x1080 with 3 Axes>"
      ]
     },
     "metadata": {
      "needs_background": "light"
     },
     "output_type": "display_data"
    },
    {
     "name": "stdout",
     "output_type": "stream",
     "text": [
      "The label is 5 0 5 5\n"
     ]
    }
   ],
   "source": [
    "### Plotting data from the validation data set\n",
    "idx = 9002\n",
    "index = [i + idx for i in range(0,30000,10000)]\n",
    "\n",
    "fig = plt.figure(figsize = (11, 15))\n",
    "ax = []\n",
    "for i in range(3):\n",
    "    annotator = val_img [index[i],:,:]\n",
    "    ax.append(fig.add_subplot(rows, columns, i+1))\n",
    "    ax[-1].set_title(names[i]) \n",
    "    plt.imshow(annotator)\n",
    "plt.show()\n",
    "\n",
    "\n",
    "gt_label = gt_val_lbl[idx]\n",
    "ann1_label = ann1_val_lbl[idx]\n",
    "ann2_label = ann2_val_lbl[idx]\n",
    "ann3_label = ann3_val_lbl[idx]\n",
    "print(\"The label is\", gt_label, ann1_label, ann2_label, ann3_label)"
   ]
  },
  {
   "cell_type": "code",
   "execution_count": 28,
   "id": "f73a6d5f",
   "metadata": {},
   "outputs": [],
   "source": [
    "### saving the training and validation dataset in npy format\n",
    "np.save(data_path_original + 'train/' + 'train_data', train_img)\n",
    "np.save(data_path_original + 'train/' + 'train_gt_labels', gt_train_lbl)\n",
    "np.save(data_path_original + 'train/' + 'train_ann1_labels', ann1_train_lbl)\n",
    "np.save(data_path_original + 'train/' + 'train_ann2_labels', ann2_train_lbl)\n",
    "np.save(data_path_original + 'train/' + 'train_ann3_labels', ann3_train_lbl)\n",
    "\n",
    "np.save(data_path_original + 'val/' + 'val_data', val_img)\n",
    "np.save(data_path_original + 'val/' + 'val_gt_labels', gt_val_lbl)\n",
    "np.save(data_path_original + 'val/' + 'val_ann1_labels', ann1_val_lbl)\n",
    "np.save(data_path_original + 'val/' + 'val_ann2_labels', ann2_val_lbl)\n",
    "np.save(data_path_original + 'val/' + 'val_ann3_labels', ann3_val_lbl)"
   ]
  },
  {
   "cell_type": "code",
   "execution_count": 29,
   "id": "109ec279",
   "metadata": {},
   "outputs": [
    {
     "name": "stdout",
     "output_type": "stream",
     "text": [
      "(28, 28)\n",
      "torch.Size([1, 28, 28])\n",
      "torch.Size([1, 32, 32]) tensor(0.1493)\n",
      "torch.Size([1, 32, 32]) tensor(0.0604)\n",
      "torch.Size([32, 32])\n"
     ]
    }
   ],
   "source": [
    "from torchvision import transforms\n",
    "\n",
    "img = train_img[5,:,:]\n",
    "print(img.shape)\n",
    "tr1 = transforms.ToTensor()\n",
    "img = tr1(img)\n",
    "print(img.shape)\n",
    "tr2 = transforms.Resize((32,32))\n",
    "img = tr2(img)\n",
    "print(img.shape, img.mean())\n",
    "tr3 = transforms.Normalize((0.1307,), (0.3081,))\n",
    "img = tr3(img)\n",
    "print(img.shape, img.mean())\n",
    "img = torch.squeeze(img, dim=0)\n",
    "print(img.shape)"
   ]
  },
  {
   "cell_type": "markdown",
   "id": "f15b7b6e",
   "metadata": {},
   "source": [
    "# Dataset class"
   ]
  },
  {
   "cell_type": "code",
   "execution_count": 30,
   "id": "47658e55",
   "metadata": {},
   "outputs": [
    {
     "name": "stdout",
     "output_type": "stream",
     "text": [
      "(150000, 28, 28) (150000,) (150000,) (150000,) (150000,)\n"
     ]
    }
   ],
   "source": [
    "images = np.load('data/mnist/train/train_data.npy')\n",
    "gt_labels = np.load('data/mnist/train/train_gt_labels.npy')\n",
    "ann1_labels = np.load('data/mnist/train/train_ann1_labels.npy')\n",
    "ann2_labels = np.load('data/mnist/train/train_ann2_labels.npy')\n",
    "ann3_labels = np.load('data/mnist/train/train_ann3_labels.npy')\n",
    "print(images.shape, gt_labels.shape, ann1_labels.shape, ann2_labels.shape, ann3_labels.shape )"
   ]
  },
  {
   "cell_type": "code",
   "execution_count": 31,
   "id": "8054b9a8",
   "metadata": {},
   "outputs": [],
   "source": [
    "# def transform_target(label):\n",
    "#     label = np.array(label)\n",
    "#     target = torch.from_numpy(label).long()\n",
    "#     return target  "
   ]
  },
  {
   "cell_type": "code",
   "execution_count": 32,
   "id": "8c0be558",
   "metadata": {},
   "outputs": [],
   "source": [
    "import torch.utils.data as Data\n",
    "from PIL import Image\n",
    "from torchvision import transforms\n",
    "\n",
    "class mnist_dataset(Data.Dataset):\n",
    "    def __init__(self, train=True, transform=None, random_seed=1):\n",
    "            \n",
    "        self.transform = transform\n",
    "        self.train = train \n",
    "        \n",
    "        self.images_train = np.load('data/mnist/train/train_data.npy')\n",
    "        self.gt_labels_train = np.load('data/mnist/train/train_gt_labels.npy')\n",
    "        self.ann1_labels_train = np.load('data/mnist/train/train_ann1_labels.npy')\n",
    "        self.ann2_labels_train = np.load('data/mnist/train/train_ann2_labels.npy')\n",
    "        self.ann3_labels_train = np.load('data/mnist/train/train_ann3_labels.npy')\n",
    "        \n",
    "        self.images_val = np.load('data/mnist/val/val_data.npy')\n",
    "        self.gt_labels_val = np.load('data/mnist/val/val_gt_labels.npy')\n",
    "        self.ann1_labels_val = np.load('data/mnist/val/val_ann1_labels.npy')\n",
    "        self.ann2_labels_val = np.load('data/mnist/val/val_ann2_labels.npy')\n",
    "        self.ann3_labels_val = np.load('data/mnist/val/val_ann3_labels.npy')\n",
    "\n",
    "    \n",
    "    def __getitem__(self, index):\n",
    "        transform_train = transforms.Compose([\n",
    "            transforms.ToTensor(),\n",
    "            transforms.Resize((32,32)),\n",
    "            transforms.Normalize((0.1307,), (0.3081,))\n",
    "        ])\n",
    "        \n",
    "        tr = transforms.ToTensor()\n",
    "        \n",
    "        if self.train:\n",
    "            if self.transform:\n",
    "                img = transform_train(self.images_train[index,:,:])\n",
    "            else:\n",
    "                img = tr(self.images_train[index,:,:])\n",
    "                \n",
    "            gt_lbl = self.gt_labels_train[index]\n",
    "            ann1_lbl = self.ann1_labels_train[index]\n",
    "            ann2_lbl = self.ann2_labels_train[index]\n",
    "            ann3_lbl = self.ann3_labels_train[index]\n",
    "\n",
    "        else:\n",
    "            if self.transform:\n",
    "                img = transform_train(self.images_val[index,:,:])\n",
    "            else:\n",
    "                img = tr(self.images_val[index,:,:])\n",
    "                \n",
    "            gt_lbl = self.gt_labels_val[index]\n",
    "            ann1_lbl = self.ann1_labels_val[index]\n",
    "            ann2_lbl = self.ann2_labels_val[index]\n",
    "            ann3_lbl = self.ann3_labels_val[index]\n",
    "            \n",
    "#         img = Image.fromarray(img)       \n",
    "\n",
    "        img = torch.squeeze(img, dim=0)\n",
    "   \n",
    "#         if self.target_transform is not None:\n",
    "#             label = self.target_transform(label)\n",
    "        \n",
    "        return img, gt_lbl, ann1_lbl, ann2_lbl, ann3_lbl, index  \n",
    "    \n",
    "    def __len__(self):\n",
    "        if self.train:\n",
    "            return len(self.gt_labels_train)\n",
    "        else:\n",
    "            return len(self.gt_labels_val)\n",
    " "
   ]
  },
  {
   "cell_type": "code",
   "execution_count": 33,
   "id": "ea4bd09a",
   "metadata": {},
   "outputs": [],
   "source": [
    "images_train = np.load('data/mnist/train/train_data.npy')"
   ]
  },
  {
   "cell_type": "code",
   "execution_count": 34,
   "id": "1820c99f",
   "metadata": {},
   "outputs": [
    {
     "data": {
      "text/plain": [
       "(150000, 28, 28)"
      ]
     },
     "execution_count": 34,
     "metadata": {},
     "output_type": "execute_result"
    }
   ],
   "source": [
    "images_train.shape"
   ]
  },
  {
   "cell_type": "code",
   "execution_count": 35,
   "id": "582a1a4f",
   "metadata": {},
   "outputs": [
    {
     "name": "stdout",
     "output_type": "stream",
     "text": [
      "6\n",
      "torch.Size([28, 28])\n",
      "5\n",
      "6\n",
      "tensor(6, dtype=torch.uint8)\n"
     ]
    },
    {
     "data": {
      "text/plain": [
       "0"
      ]
     },
     "execution_count": 35,
     "metadata": {},
     "output_type": "execute_result"
    }
   ],
   "source": [
    "lll = next(iter(mnist_dataset()))\n",
    "print(len(lll))\n",
    "print(lll[0].shape)\n",
    "print(lll[1])\n",
    "print(lll[4])\n",
    "print(torch.tensor(lll[4]))\n",
    "lll[5]"
   ]
  },
  {
   "cell_type": "code",
   "execution_count": 36,
   "id": "284daabb",
   "metadata": {},
   "outputs": [
    {
     "data": {
      "image/png": "[encoded data removed]",
      "text/plain": [
       "<Figure size 432x288 with 1 Axes>"
      ]
     },
     "metadata": {
      "needs_background": "light"
     },
     "output_type": "display_data"
    },
    {
     "name": "stdout",
     "output_type": "stream",
     "text": [
      "The label is 5 5 5 6 0\n"
     ]
    }
   ],
   "source": [
    "### Check manually\n",
    "plt.imshow(lll[0]); plt.show()\n",
    "\n",
    "gt_label = lll[1]\n",
    "ann1_label = lll[2]\n",
    "ann2_label = lll[3]\n",
    "ann3_label = lll[4]\n",
    "idx = lll[5]\n",
    "print(\"The label is\", gt_label, ann1_label, ann2_label, ann3_label, idx)"
   ]
  },
  {
   "cell_type": "code",
   "execution_count": 37,
   "id": "b76aed62",
   "metadata": {},
   "outputs": [
    {
     "name": "stdout",
     "output_type": "stream",
     "text": [
      "1172 150016\n",
      "235 30080\n"
     ]
    }
   ],
   "source": [
    "BATCH_SIZE = 128\n",
    "\n",
    "train_dataset = mnist_dataset(train=True, transform = True)\n",
    "train_loader = torch.utils.data.DataLoader(train_dataset, batch_size=BATCH_SIZE, shuffle=True)\n",
    "print(len(train_loader), len(train_loader)*BATCH_SIZE)\n",
    "\n",
    "val_dataset = mnist_dataset(train=False, transform = True)\n",
    "val_loader = torch.utils.data.DataLoader(val_dataset, batch_size=BATCH_SIZE, shuffle=True)\n",
    "print(len(val_loader), len(val_loader)*BATCH_SIZE)"
   ]
  },
  {
   "cell_type": "code",
   "execution_count": 38,
   "id": "77072f31",
   "metadata": {},
   "outputs": [
    {
     "name": "stdout",
     "output_type": "stream",
     "text": [
      "torch.Size([128, 32, 32]) torch.Size([128]) torch.Size([128]) torch.Size([128]) torch.Size([128])\n"
     ]
    },
    {
     "data": {
      "image/png": "[encoded data removed]",
      "text/plain": [
       "<Figure size 432x288 with 1 Axes>"
      ]
     },
     "metadata": {
      "needs_background": "light"
     },
     "output_type": "display_data"
    },
    {
     "name": "stdout",
     "output_type": "stream",
     "text": [
      "tensor(8, dtype=torch.uint8)\n",
      "tensor(1, dtype=torch.uint8)\n",
      "tensor(9, dtype=torch.uint8)\n",
      "tensor(9, dtype=torch.uint8)\n",
      "tensor(3933)\n"
     ]
    },
    {
     "ename": "NameError",
     "evalue": "name 'tyfret' is not defined",
     "output_type": "error",
     "traceback": [
      "\u001b[0;31m---------------------------------------------------------------------------\u001b[0m",
      "\u001b[0;31mNameError\u001b[0m                                 Traceback (most recent call last)",
      "\u001b[0;32m/tmp/ipykernel_3329552/1646831868.py\u001b[0m in \u001b[0;36m<module>\u001b[0;34m\u001b[0m\n\u001b[1;32m      8\u001b[0m     \u001b[0mprint\u001b[0m\u001b[0;34m(\u001b[0m\u001b[0mdata\u001b[0m\u001b[0;34m[\u001b[0m\u001b[0;36m4\u001b[0m\u001b[0;34m]\u001b[0m\u001b[0;34m[\u001b[0m\u001b[0midx\u001b[0m\u001b[0;34m]\u001b[0m\u001b[0;34m)\u001b[0m\u001b[0;34m\u001b[0m\u001b[0;34m\u001b[0m\u001b[0m\n\u001b[1;32m      9\u001b[0m     \u001b[0mprint\u001b[0m\u001b[0;34m(\u001b[0m\u001b[0mdata\u001b[0m\u001b[0;34m[\u001b[0m\u001b[0;36m5\u001b[0m\u001b[0;34m]\u001b[0m\u001b[0;34m[\u001b[0m\u001b[0midx\u001b[0m\u001b[0;34m]\u001b[0m\u001b[0;34m)\u001b[0m\u001b[0;34m\u001b[0m\u001b[0;34m\u001b[0m\u001b[0m\n\u001b[0;32m---> 10\u001b[0;31m     \u001b[0mtyfret\u001b[0m\u001b[0;34m\u001b[0m\u001b[0;34m\u001b[0m\u001b[0m\n\u001b[0m",
      "\u001b[0;31mNameError\u001b[0m: name 'tyfret' is not defined"
     ]
    }
   ],
   "source": [
    "for data in val_loader:\n",
    "    print(data[0].shape, data[1].shape, data[2].shape, data[3].shape, data[4].shape)\n",
    "    idx = 59\n",
    "    plt.imshow(data[0][idx]); plt.show()\n",
    "    print(data[1][idx])\n",
    "    print(data[2][idx])\n",
    "    print(data[3][idx])\n",
    "    print(data[4][idx])\n",
    "    print(data[5][idx])\n",
    "    tyfret"
   ]
  },
  {
   "cell_type": "code",
   "execution_count": null,
   "id": "aedbfc93",
   "metadata": {},
   "outputs": [],
   "source": []
  },
  {
   "cell_type": "code",
   "execution_count": null,
   "id": "554937f8",
   "metadata": {},
   "outputs": [],
   "source": []
  },
  {
   "cell_type": "markdown",
   "id": "1987f42d",
   "metadata": {},
   "source": [
    "# Data Prep for Test Data"
   ]
  },
  {
   "cell_type": "code",
   "execution_count": 39,
   "id": "e631ccfa",
   "metadata": {},
   "outputs": [
    {
     "name": "stdout",
     "output_type": "stream",
     "text": [
      "Shape of image data (5, 10000, 28, 28)\n",
      "Shape of labels (10000,)\n"
     ]
    }
   ],
   "source": [
    "data_path_original = './data/mnist/test/'\n",
    "with gzip.open(data_path_original + 'annotators_test_ubyte.gz', \"rb\") as a_file:\n",
    "    annotators = idx2numpy.convert_from_file(a_file)\n",
    "with gzip.open(data_path_original + 't10k-labels-idx1-ubyte.gz', \"rb\") as a_file:\n",
    "    annotators_labels = idx2numpy.convert_from_file(a_file)\n",
    "\n",
    "print(\"Shape of image data\", annotators.shape)\n",
    "print(\"Shape of labels\", annotators_labels.shape)"
   ]
  },
  {
   "cell_type": "code",
   "execution_count": 40,
   "id": "d6a50fc2",
   "metadata": {},
   "outputs": [
    {
     "data": {
      "text/plain": [
       "<matplotlib.image.AxesImage at 0x7fa09f986280>"
      ]
     },
     "execution_count": 40,
     "metadata": {},
     "output_type": "execute_result"
    },
    {
     "data": {
      "image/png": "[encoded data removed]",
      "text/plain": [
       "<Figure size 432x288 with 1 Axes>"
      ]
     },
     "metadata": {
      "needs_background": "light"
     },
     "output_type": "display_data"
    }
   ],
   "source": [
    "with gzip.open(data_path_original + 't10k-images-idx3-ubyte.gz', \"rb\") as a_file:\n",
    "    img = idx2numpy.convert_from_file(a_file)\n",
    "plt.imshow(img[55])"
   ]
  },
  {
   "cell_type": "code",
   "execution_count": 41,
   "id": "12cf7867",
   "metadata": {},
   "outputs": [
    {
     "data": {
      "image/png": "[encoded data removed]",
      "text/plain": [
       "<Figure size 792x1080 with 5 Axes>"
      ]
     },
     "metadata": {
      "needs_background": "light"
     },
     "output_type": "display_data"
    },
    {
     "name": "stdout",
     "output_type": "stream",
     "text": [
      "The label is 0\n"
     ]
    }
   ],
   "source": [
    "columns = 5\n",
    "rows = 1\n",
    "idx = 55\n",
    "\n",
    "names = [\"ground truth\", \"thin\", \"thick\", \"swell\", \"fractured\"]\n",
    "\n",
    "fig = plt.figure(figsize = (11, 15))\n",
    "ax = []\n",
    "for i in range(columns*rows):\n",
    "    annotator = annotators[i,idx,:,:]\n",
    "    ax.append(fig.add_subplot(rows, columns, i+1))\n",
    "    ax[-1].set_title(names[i]) \n",
    "    plt.imshow(annotator)\n",
    "plt.show()\n",
    "\n",
    "label = annotators_labels[idx]\n",
    "print(\"The label is\", label)"
   ]
  },
  {
   "cell_type": "code",
   "execution_count": 42,
   "id": "a8f4c0f9",
   "metadata": {},
   "outputs": [
    {
     "name": "stdout",
     "output_type": "stream",
     "text": [
      "(3, 10000)\n"
     ]
    }
   ],
   "source": [
    "### Labels: Annotator 1\n",
    "gt_noisy_lbl, SM_ann1_gt_test = noisify(torch.tensor(annotators_labels), noise_type='symmetric', noise_rate=0.8, random_state=0, nb_classes=10)\n",
    "ann1_test_lbl = gt_noisy_lbl\n",
    "\n",
    "thin_noisy_lbl, SM_ann1_thin_test = noisify(torch.tensor(annotators_labels), noise_type='asymmetric', noise_rate=0.4, random_state=0, nb_classes=10)\n",
    "ann1_test_lbl = np.vstack((ann1_test_lbl, thin_noisy_lbl))\n",
    "\n",
    "thick_noisy_lbl, SM_ann1_thick_test = noisify(torch.tensor(annotators_labels), noise_type='pairflip', noise_rate=0.95, random_state=0, nb_classes=10)\n",
    "ann1_test_lbl = np.vstack((ann1_test_lbl, thick_noisy_lbl))\n",
    "\n",
    "# swell_noisy_lbl = noisify_pairflip(torch.tensor(annotators_labels),noise=0.2,random_state=0,nb_classes=10)\n",
    "# ann1_lbl = np.vstack((ann1_lbl, swell_noisy_lbl))\n",
    "\n",
    "# frac_noisy_lbl = noisify_multiclass_symmetric(torch.tensor(annotators_labels), noise=0.6, random_state=0, nb_classes=10)\n",
    "# ann1_lbl = np.vstack((ann1_lbl, frac_noisy_lbl))\n",
    "\n",
    "print(ann1_test_lbl.shape)"
   ]
  },
  {
   "cell_type": "code",
   "execution_count": 43,
   "id": "220853a8",
   "metadata": {},
   "outputs": [
    {
     "data": {
      "image/png": "[encoded data removed]",
      "text/plain": [
       "<Figure size 288x288 with 2 Axes>"
      ]
     },
     "metadata": {
      "needs_background": "light"
     },
     "output_type": "display_data"
    },
    {
     "data": {
      "image/png": "[encoded data removed]",
      "text/plain": [
       "<Figure size 288x288 with 2 Axes>"
      ]
     },
     "metadata": {
      "needs_background": "light"
     },
     "output_type": "display_data"
    },
    {
     "data": {
      "image/png": "[encoded data removed]",
      "text/plain": [
       "<Figure size 288x288 with 2 Axes>"
      ]
     },
     "metadata": {
      "needs_background": "light"
     },
     "output_type": "display_data"
    }
   ],
   "source": [
    "plt.matshow(SM_ann1_gt_test);plt.colorbar();\n",
    "plt.matshow(SM_ann1_thin_test);plt.colorbar();\n",
    "plt.matshow(SM_ann1_thick_test);plt.colorbar();\n",
    "# plt.savefig('./plots/Original_SMs/SM_ann1_gt_test.png')"
   ]
  },
  {
   "cell_type": "code",
   "execution_count": null,
   "id": "6ca33c1d",
   "metadata": {},
   "outputs": [],
   "source": [
    "plt.matshow(SM_ann1_gt);plt.colorbar();\n",
    "plt.title(\"Annotator1 GT\", fontsize = 20);\n",
    "plt.tight_layout()\n",
    "plt.savefig('./plots/Original_SMs/SM_ann1_gt.pdf', bbox_inches='tight')\n",
    "\n",
    "plt.matshow(SM_ann1_thin);plt.colorbar();\n",
    "plt.title(\"Annotator1 Thin\", fontsize = 20);\n",
    "plt.tight_layout()\n",
    "plt.savefig('./plots/Original_SMs/SM_ann1_thin.pdf', bbox_inches='tight')\n",
    "\n",
    "plt.matshow(SM_ann1_thick);plt.colorbar();\n",
    "plt.title(\"Annotator1 Thick\", fontsize = 20);\n",
    "plt.tight_layout()\n",
    "plt.savefig('./plots/Original_SMs/SM_ann1_thick.pdf', bbox_inches='tight')"
   ]
  },
  {
   "cell_type": "code",
   "execution_count": 51,
   "id": "2f19fd66",
   "metadata": {},
   "outputs": [
    {
     "name": "stdout",
     "output_type": "stream",
     "text": [
      "(4, 1, 2, 7, 5, 0, 3, 6, 8, 9) 0\n",
      "(3, 10000)\n"
     ]
    }
   ],
   "source": [
    "### Labels: Annotator 2\n",
    "gt_noisy_lbl, SM_ann2_gt_test = noisify(torch.tensor(annotators_labels), noise_type='pairflip_permut', noise_rate=0.4, random_state=0, nb_classes=10)\n",
    "ann2_test_lbl = gt_noisy_lbl\n",
    "\n",
    "thin_noisy_lbl, SM_ann2_thin_test = noisify(torch.tensor(annotators_labels), noise_type='symmetric', noise_rate=0.95, random_state=0, nb_classes=10)\n",
    "ann2_test_lbl = np.vstack((ann2_test_lbl, thin_noisy_lbl))\n",
    "\n",
    "thick_noisy_lbl, SM_ann2_thick_test = noisify(torch.tensor(annotators_labels), noise_type='asymmetric', noise_rate=0.7, random_state=0, nb_classes=10)\n",
    "ann2_test_lbl = np.vstack((ann2_test_lbl, thick_noisy_lbl))\n",
    "\n",
    "# swell_noisy_lbl = noisify_pairflip(torch.tensor(annotators_labels),noise=0.4,random_state=0,nb_classes=10)\n",
    "# ann2_lbl = np.vstack((ann2_lbl, swell_noisy_lbl))\n",
    "\n",
    "# frac_noisy_lbl = noisify_multiclass_symmetric(torch.tensor(annotators_labels), noise=0.4, random_state=0, nb_classes=10)\n",
    "# ann2_lbl = np.vstack((ann2_lbl, frac_noisy_lbl))\n",
    "\n",
    "print(ann2_test_lbl.shape)"
   ]
  },
  {
   "cell_type": "code",
   "execution_count": 52,
   "id": "492be27d",
   "metadata": {},
   "outputs": [
    {
     "data": {
      "image/png": "[encoded data removed]",
      "text/plain": [
       "<Figure size 288x288 with 2 Axes>"
      ]
     },
     "metadata": {
      "needs_background": "light"
     },
     "output_type": "display_data"
    },
    {
     "data": {
      "image/png": "[encoded data removed]",
      "text/plain": [
       "<Figure size 288x288 with 2 Axes>"
      ]
     },
     "metadata": {
      "needs_background": "light"
     },
     "output_type": "display_data"
    },
    {
     "data": {
      "image/png": "[encoded data removed]",
      "text/plain": [
       "<Figure size 288x288 with 2 Axes>"
      ]
     },
     "metadata": {
      "needs_background": "light"
     },
     "output_type": "display_data"
    }
   ],
   "source": [
    "plt.matshow(SM_ann2_gt_test);plt.colorbar();\n",
    "plt.matshow(SM_ann2_thin_test);plt.colorbar();\n",
    "plt.matshow(SM_ann2_thick_test);plt.colorbar();"
   ]
  },
  {
   "cell_type": "code",
   "execution_count": 46,
   "id": "32012f9f",
   "metadata": {},
   "outputs": [
    {
     "name": "stdout",
     "output_type": "stream",
     "text": [
      "(4, 1, 2, 7, 5, 0, 3, 9, 8, 6) 5\n",
      "(3, 10000)\n"
     ]
    }
   ],
   "source": [
    "### Labels: Annotator 3\n",
    "gt_noisy_lbl, SM_ann3_gt_test = noisify(torch.tensor(annotators_labels), noise_type='pairflip', noise_rate=0.6, random_state=0, nb_classes=10)\n",
    "ann3_test_lbl = gt_noisy_lbl\n",
    "\n",
    "thin_noisy_lbl, SM_ann3_thin_test = noisify(torch.tensor(annotators_labels), noise_type='pairflip_permut', noise_rate=0.4, random_state=5, nb_classes=10)\n",
    "ann3_test_lbl = np.vstack((ann3_test_lbl, thin_noisy_lbl))\n",
    "\n",
    "thick_noisy_lbl, SM_ann3_thick_test = noisify(torch.tensor(annotators_labels), noise_type='symmetric', noise_rate=0.8, random_state=0, nb_classes=10)\n",
    "ann3_test_lbl = np.vstack((ann3_test_lbl, thick_noisy_lbl))\n",
    "\n",
    "# swell_noisy_lbl = noisify_pairflip(torch.tensor(annotators_labels),noise=0.6,random_state=0,nb_classes=10)\n",
    "# ann3_lbl = np.vstack((ann3_lbl, swell_noisy_lbl))\n",
    "# frac_noisy_lbl = noisify_multiclass_symmetric(torch.tensor(annotators_labels), noise=0.5, random_state=0, nb_classes=10)\n",
    "# ann3_lbl = np.vstack((ann3_lbl, frac_noisy_lbl))\n",
    "\n",
    "print(ann3_test_lbl.shape)"
   ]
  },
  {
   "cell_type": "code",
   "execution_count": 47,
   "id": "bdb0a9b3",
   "metadata": {},
   "outputs": [
    {
     "data": {
      "image/png": "[encoded data removed]",
      "text/plain": [
       "<Figure size 288x288 with 2 Axes>"
      ]
     },
     "metadata": {
      "needs_background": "light"
     },
     "output_type": "display_data"
    },
    {
     "data": {
      "image/png": "[encoded data removed]",
      "text/plain": [
       "<Figure size 288x288 with 2 Axes>"
      ]
     },
     "metadata": {
      "needs_background": "light"
     },
     "output_type": "display_data"
    },
    {
     "data": {
      "image/png": "[encoded data removed]",
      "text/plain": [
       "<Figure size 288x288 with 2 Axes>"
      ]
     },
     "metadata": {
      "needs_background": "light"
     },
     "output_type": "display_data"
    }
   ],
   "source": [
    "plt.matshow(SM_ann3_gt_test);plt.colorbar();\n",
    "plt.matshow(SM_ann3_thin_test);plt.colorbar();\n",
    "plt.matshow(SM_ann3_thick_test);plt.colorbar();"
   ]
  },
  {
   "cell_type": "code",
   "execution_count": 48,
   "id": "6a86d297",
   "metadata": {},
   "outputs": [
    {
     "name": "stdout",
     "output_type": "stream",
     "text": [
      "(3, 10000)\n"
     ]
    }
   ],
   "source": [
    "gt_test_lbl = annotators_labels\n",
    "for i in range (1, 3):\n",
    "    gt_test_lbl = np.vstack((gt_test_lbl, annotators_labels)) \n",
    "\n",
    "print(gt_test_lbl.shape)"
   ]
  },
  {
   "cell_type": "code",
   "execution_count": 53,
   "id": "cec2debf",
   "metadata": {},
   "outputs": [
    {
     "name": "stdout",
     "output_type": "stream",
     "text": [
      "5 5 5\n",
      "9 5 6\n",
      "5 7 8\n",
      "5 5 9\n"
     ]
    },
    {
     "data": {
      "image/png": "[encoded data removed]",
      "text/plain": [
       "<Figure size 792x1080 with 3 Axes>"
      ]
     },
     "metadata": {
      "needs_background": "light"
     },
     "output_type": "display_data"
    }
   ],
   "source": [
    "##### Reshaping the data\n",
    "images = annotators[0:3,:]\n",
    "\n",
    "test_img = images.reshape(3*10000,28,28)\n",
    "\n",
    "gt_test_lbl = gt_test_lbl.reshape(3*10000)\n",
    "ann1_test_lbl = ann1_test_lbl.reshape(3*10000)\n",
    "ann2_test_lbl = ann2_test_lbl.reshape(3*10000)\n",
    "ann3_test_lbl = ann3_test_lbl.reshape(3*10000)\n",
    "\n",
    "idx = 15; idx2 = 10000+idx; idx3 = 20000+idx\n",
    "print(gt_test_lbl[idx], gt_test_lbl[idx2], gt_test_lbl[idx3])\n",
    "print(ann1_test_lbl[idx], ann1_test_lbl[idx2], ann1_test_lbl[idx3])\n",
    "print(ann2_test_lbl[idx], ann2_test_lbl[idx2], ann2_test_lbl[idx3])\n",
    "print(ann3_test_lbl[idx], ann3_test_lbl[idx2], ann3_test_lbl[idx3])\n",
    "\n",
    "\n",
    "index = [i + idx for i in range(0,30000,10000)]\n",
    "\n",
    "fig = plt.figure(figsize = (11, 15))\n",
    "ax = []\n",
    "for i in range(3):\n",
    "    annotator = test_img [index[i],:,:]\n",
    "    ax.append(fig.add_subplot(rows, columns, i+1))\n",
    "    ax[-1].set_title(names[i]) \n",
    "    plt.imshow(annotator)\n",
    "plt.show()"
   ]
  },
  {
   "cell_type": "code",
   "execution_count": 54,
   "id": "27cd4ccf",
   "metadata": {},
   "outputs": [],
   "source": [
    "##### saving the testing dataset in npy format\n",
    "np.save(data_path_original + 'test_data', test_img)\n",
    "np.save(data_path_original + 'test_gt_labels', gt_test_lbl)\n",
    "np.save(data_path_original + 'test_ann1_labels', ann1_test_lbl)\n",
    "np.save(data_path_original + 'test_ann2_labels', ann2_test_lbl)\n",
    "np.save(data_path_original + 'test_ann3_labels', ann3_test_lbl)"
   ]
  },
  {
   "cell_type": "code",
   "execution_count": 55,
   "id": "45263738",
   "metadata": {},
   "outputs": [
    {
     "name": "stdout",
     "output_type": "stream",
     "text": [
      "(30000, 28, 28) (30000,) (30000,) (30000,) (30000,)\n"
     ]
    }
   ],
   "source": [
    "##### Importing data and putting to loader\n",
    "images_test = np.load('data/mnist/test/test_data.npy')\n",
    "gt_test_labels = np.load('data/mnist/test/test_gt_labels.npy')\n",
    "ann1_test_labels = np.load('data/mnist/test/test_ann1_labels.npy')\n",
    "ann2_test_labels = np.load('data/mnist/test/test_ann2_labels.npy')\n",
    "ann3_test_labels = np.load('data/mnist/test/test_ann3_labels.npy')\n",
    "print(images_test.shape, gt_test_labels.shape, ann1_test_labels.shape, ann2_test_labels.shape, ann3_test_labels.shape )"
   ]
  },
  {
   "cell_type": "code",
   "execution_count": 56,
   "id": "8fc04bda",
   "metadata": {},
   "outputs": [],
   "source": [
    "import torch.utils.data as Data\n",
    "from PIL import Image\n",
    "from torchvision import transforms\n",
    "\n",
    "class mnist_test_dataset(Data.Dataset):\n",
    "    def __init__(self, transform=None, random_seed=0):\n",
    "            \n",
    "        self.transform = transform\n",
    "        \n",
    "        self.images_test = np.load('data/mnist/test/test_data.npy')\n",
    "        self.gt_labels_test = np.load('data/mnist/test/test_gt_labels.npy')\n",
    "        self.ann1_labels_test = np.load('data/mnist/test/test_ann1_labels.npy')\n",
    "        self.ann2_labels_test = np.load('data/mnist/test/test_ann2_labels.npy')\n",
    "        self.ann3_labels_test = np.load('data/mnist/test/test_ann3_labels.npy')\n",
    "        \n",
    "    def __getitem__(self, index):\n",
    "        transform_train = transforms.Compose([\n",
    "            transforms.ToTensor(),\n",
    "            transforms.Resize((32,32)),\n",
    "            transforms.Normalize((0.1307,), (0.3081,))\n",
    "        ])\n",
    "        \n",
    "        tr = transforms.ToTensor()\n",
    "        \n",
    "        \n",
    "        if self.transform:\n",
    "            img = transform_train(self.images_test[index,:,:])\n",
    "        else:\n",
    "            img = tr(self.images_test[index,:,:])\n",
    "\n",
    "        gt_lbl = self.gt_labels_test[index]\n",
    "        ann1_lbl = self.ann1_labels_test[index]\n",
    "        ann2_lbl = self.ann2_labels_test[index]\n",
    "        ann3_lbl = self.ann3_labels_test[index]\n",
    "\n",
    "        img = torch.squeeze(img, dim=0)\n",
    "       \n",
    "        return img, gt_lbl, ann1_lbl, ann2_lbl, ann3_lbl, index  \n",
    "    \n",
    "    def __len__(self):\n",
    "        return len(self.gt_labels_test)\n",
    "        \n",
    " "
   ]
  },
  {
   "cell_type": "code",
   "execution_count": 57,
   "id": "44b51386",
   "metadata": {},
   "outputs": [
    {
     "name": "stdout",
     "output_type": "stream",
     "text": [
      "1172 150016\n",
      "torch.Size([128, 32, 32]) torch.Size([128]) torch.Size([128]) torch.Size([128]) torch.Size([128])\n"
     ]
    },
    {
     "data": {
      "image/png": "[encoded data removed]",
      "text/plain": [
       "<Figure size 432x288 with 1 Axes>"
      ]
     },
     "metadata": {
      "needs_background": "light"
     },
     "output_type": "display_data"
    },
    {
     "name": "stdout",
     "output_type": "stream",
     "text": [
      "tensor(2, dtype=torch.uint8)\n",
      "tensor(3, dtype=torch.uint8)\n",
      "tensor(4, dtype=torch.uint8)\n",
      "tensor(0, dtype=torch.uint8)\n",
      "tensor(115466)\n"
     ]
    },
    {
     "ename": "NameError",
     "evalue": "name 'tyfret' is not defined",
     "output_type": "error",
     "traceback": [
      "\u001b[0;31m---------------------------------------------------------------------------\u001b[0m",
      "\u001b[0;31mNameError\u001b[0m                                 Traceback (most recent call last)",
      "\u001b[0;32m/tmp/ipykernel_3329552/3049781672.py\u001b[0m in \u001b[0;36m<module>\u001b[0;34m\u001b[0m\n\u001b[1;32m     15\u001b[0m     \u001b[0mprint\u001b[0m\u001b[0;34m(\u001b[0m\u001b[0mdata\u001b[0m\u001b[0;34m[\u001b[0m\u001b[0;36m4\u001b[0m\u001b[0;34m]\u001b[0m\u001b[0;34m[\u001b[0m\u001b[0midx\u001b[0m\u001b[0;34m]\u001b[0m\u001b[0;34m)\u001b[0m\u001b[0;34m\u001b[0m\u001b[0;34m\u001b[0m\u001b[0m\n\u001b[1;32m     16\u001b[0m     \u001b[0mprint\u001b[0m\u001b[0;34m(\u001b[0m\u001b[0mdata\u001b[0m\u001b[0;34m[\u001b[0m\u001b[0;36m5\u001b[0m\u001b[0;34m]\u001b[0m\u001b[0;34m[\u001b[0m\u001b[0midx\u001b[0m\u001b[0;34m]\u001b[0m\u001b[0;34m)\u001b[0m\u001b[0;34m\u001b[0m\u001b[0;34m\u001b[0m\u001b[0m\n\u001b[0;32m---> 17\u001b[0;31m     \u001b[0mtyfret\u001b[0m\u001b[0;34m\u001b[0m\u001b[0;34m\u001b[0m\u001b[0m\n\u001b[0m",
      "\u001b[0;31mNameError\u001b[0m: name 'tyfret' is not defined"
     ]
    }
   ],
   "source": [
    "BATCH_SIZE = 128\n",
    "idx = 55\n",
    "\n",
    "test_dataset = mnist_test_dataset(transform = True)\n",
    "test_loader = torch.utils.data.DataLoader(train_dataset, batch_size=BATCH_SIZE, shuffle=True)\n",
    "print(len(test_loader), len(test_loader)*BATCH_SIZE)\n",
    "\n",
    "for data in test_loader:\n",
    "    print(data[0].shape, data[1].shape, data[2].shape, data[3].shape, data[4].shape)\n",
    "    idx = 59\n",
    "    plt.imshow(data[0][idx]); plt.show()\n",
    "    print(data[1][idx])\n",
    "    print(data[2][idx])\n",
    "    print(data[3][idx])\n",
    "    print(data[4][idx])\n",
    "    print(data[5][idx])\n",
    "    tyfret"
   ]
  },
  {
   "cell_type": "code",
   "execution_count": null,
   "id": "47d1d5dc",
   "metadata": {},
   "outputs": [],
   "source": []
  }
 ],
 "metadata": {
  "kernelspec": {
   "display_name": "noisy",
   "language": "python",
   "name": "noisy"
  },
  "language_info": {
   "codemirror_mode": {
    "name": "ipython",
    "version": 3
   },
   "file_extension": ".py",
   "mimetype": "text/x-python",
   "name": "python",
   "nbconvert_exporter": "python",
   "pygments_lexer": "ipython3",
   "version": "3.10.4"
  }
 },
 "nbformat": 4,
 "nbformat_minor": 5
}
